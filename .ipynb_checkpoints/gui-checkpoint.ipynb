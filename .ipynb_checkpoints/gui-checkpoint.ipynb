{
 "cells": [
  {
   "cell_type": "code",
   "execution_count": 1,
   "metadata": {},
   "outputs": [
    {
     "name": "stdout",
     "output_type": "stream",
     "text": [
      "[ 48  49  50  51  52  53  54  55  56  57  65  66  67  68  69  70  71  72\n",
      "  73  74  75  76  77  78  79  80  81  82  83  84  85  86  87  88  89  90\n",
      "  97  98 100 101 102 103 104 110 113 114 116]\n",
      "{0: '0', 1: '1', 2: '2', 3: '3', 4: '4', 5: '5', 6: '6', 7: '7', 8: '8', 9: '9', 10: 'A', 11: 'B', 12: 'C', 13: 'D', 14: 'E', 15: 'F', 16: 'G', 17: 'H', 18: 'I', 19: 'J', 20: 'K', 21: 'L', 22: 'M', 23: 'N', 24: 'O', 25: 'P', 26: 'Q', 27: 'R', 28: 'S', 29: 'T', 30: 'U', 31: 'V', 32: 'W', 33: 'X', 34: 'Y', 35: 'Z', 36: 'a', 37: 'b', 38: 'd', 39: 'e', 40: 'f', 41: 'g', 42: 'h', 43: 'n', 44: 'q', 45: 'r', 46: 't'}\n"
     ]
    }
   ],
   "source": [
    "import numpy as np\n",
    "from tensorflow import keras\n",
    "\n",
    "mapping = np.loadtxt('emnist-balanced-mapping.txt',dtype=int, usecols=(1), unpack=True)\n",
    "print(mapping)\n",
    "char_labels={}\n",
    "for i in range(47):\n",
    "    char_labels[i] = chr(mapping[i])\n",
    "print(char_labels)"
   ]
  },
  {
   "cell_type": "code",
   "execution_count": 2,
   "metadata": {
    "scrolled": true
   },
   "outputs": [],
   "source": [
    "model = keras.models.load_model('emnist.model')"
   ]
  },
  {
   "cell_type": "code",
   "execution_count": 3,
   "metadata": {},
   "outputs": [],
   "source": [
    "from PIL import ImageTk, Image, ImageDraw, ImageGrab\n",
    "from tkinter import *\n",
    "from tensorflow import keras\n",
    "\n",
    "# do pip install Pillow for PIL library\n",
    "\n",
    "white = (255, 255, 255)\n",
    "\n",
    "\n",
    "def predict():\n",
    "    box = (canvas.winfo_rootx(), canvas.winfo_rooty(), canvas.winfo_rootx() + canvas.winfo_width(),\n",
    "           canvas.winfo_rooty() + canvas.winfo_height())\n",
    "    grab = ImageGrab.grab(bbox=box)\n",
    "    grab = grab.convert(\"L\")\n",
    "    grab = grab.resize((28, 28))\n",
    "#     grab.save(\"image.png\") in order to save image to working directory.\n",
    "    img = np.array(grab)\n",
    "    img = np.invert(np.array([img]))\n",
    "    img = img.reshape(1,28,28,1)\n",
    "    img = img/255\n",
    "    predict = model.predict(img)\n",
    "    final_predict = char_labels[np.argmax(predict)]\n",
    "    label.configure(text=\"Finished thinking....it is: \" + str(final_predict))\n",
    "    \n",
    "\n",
    "def clear():\n",
    "    canvas.delete(\"all\")\n",
    "\n",
    "\n",
    "def paint(event):\n",
    "    x1, y1 = (event.x - 1), (event.y - 1)\n",
    "    x2, y2 = (event.x + 1), (event.y + 1)\n",
    "    canvas.create_rectangle(x1, y1, x2, y1, fill=\"black\", width=10)\n",
    "\n",
    "\n",
    "root = Tk()\n",
    "\n",
    "canvas = Canvas(root, width=276, height=276, bg='white')\n",
    "canvas.pack()\n",
    "\n",
    "canvas.bind(\"<B1-Motion>\", paint)\n",
    "\n",
    "button_save = Button(text=\"Predict\", command=predict)\n",
    "button_clear = Button(text=\"Clear\", command=clear)\n",
    "label = Label(text=\"Thinking\", font=(\"Arial\", 32))\n",
    "label.pack()\n",
    "button_save.pack()\n",
    "button_clear.pack()\n",
    "\n",
    "root.mainloop()"
   ]
  }
 ],
 "metadata": {
  "kernelspec": {
   "display_name": "gputensor 3.7",
   "language": "python",
   "name": "gputensor"
  },
  "language_info": {
   "codemirror_mode": {
    "name": "ipython",
    "version": 3
   },
   "file_extension": ".py",
   "mimetype": "text/x-python",
   "name": "python",
   "nbconvert_exporter": "python",
   "pygments_lexer": "ipython3",
   "version": "3.7.10"
  }
 },
 "nbformat": 4,
 "nbformat_minor": 4
}

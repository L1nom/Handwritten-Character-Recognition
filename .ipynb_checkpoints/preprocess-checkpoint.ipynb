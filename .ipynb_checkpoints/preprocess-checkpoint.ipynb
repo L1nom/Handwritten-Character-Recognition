{
 "cells": [
  {
   "cell_type": "code",
   "execution_count": 1,
   "metadata": {},
   "outputs": [
    {
     "name": "stdout",
     "output_type": "stream",
     "text": [
      "2.3.0\n"
     ]
    }
   ],
   "source": [
    "import tensorflow as tf\n",
    "print(tf.__version__)"
   ]
  },
  {
   "cell_type": "code",
   "execution_count": 2,
   "metadata": {},
   "outputs": [],
   "source": [
    "import numpy as np\n",
    "import pandas as pd\n",
    "import matplotlib.pyplot as plt"
   ]
  },
  {
   "cell_type": "markdown",
   "metadata": {},
   "source": [
    "Read the datasets as a pandas dataframe. \n",
    "We notice in the shape tuple, the first value refers to the number of units, the second value represents the size of it. \n",
    "There is one extra number due to indexing. \n",
    "28*28 = 784"
   ]
  },
  {
   "cell_type": "code",
   "execution_count": 3,
   "metadata": {},
   "outputs": [
    {
     "name": "stdout",
     "output_type": "stream",
     "text": [
      "Train: (112799, 785), Test: (18799, 785)\n"
     ]
    }
   ],
   "source": [
    "train = pd.read_csv(\"emnist-balanced-train.csv\",delimiter = ',')\n",
    "test = pd.read_csv(\"emnist-balanced-test.csv\", delimiter = ',')\n",
    "print(\"Train: %s, Test: %s\" %(train.shape, test.shape))"
   ]
  },
  {
   "cell_type": "code",
   "execution_count": 4,
   "metadata": {},
   "outputs": [
    {
     "name": "stdout",
     "output_type": "stream",
     "text": [
      "   45  0  0.1  0.2  0.3  0.4  0.5  0.6  0.7  0.8  ...  0.524  0.525  0.526  \\\n",
      "0  36  0    0    0    0    0    0    0    0    0  ...      0      0      0   \n",
      "1  43  0    0    0    0    0    0    0    0    0  ...      0      0      0   \n",
      "2  15  0    0    0    0    0    0    0    0    0  ...      0      0      0   \n",
      "3   4  0    0    0    0    0    0    0    0    0  ...      0      0      0   \n",
      "4  42  0    0    0    0    0    0    0    0    0  ...      0      0      0   \n",
      "\n",
      "   0.527  0.528  0.529  0.530  0.531  0.532  0.533  \n",
      "0      0      0      0      0      0      0      0  \n",
      "1      0      0      0      0      0      0      0  \n",
      "2      0      0      0      0      0      0      0  \n",
      "3      0      0      0      0      0      0      0  \n",
      "4      0      0      0      0      0      0      0  \n",
      "\n",
      "[5 rows x 785 columns]\n"
     ]
    }
   ],
   "source": [
    "print(train.head())"
   ]
  },
  {
   "cell_type": "code",
   "execution_count": 5,
   "metadata": {},
   "outputs": [],
   "source": [
    "HEIGHT = 28\n",
    "WIDTH = 28"
   ]
  },
  {
   "cell_type": "code",
   "execution_count": 6,
   "metadata": {},
   "outputs": [],
   "source": [
    "#removing the indexes from the dataframe to get strictly values\n",
    "train_x = train.iloc[:,1:]\n",
    "train_y = train.iloc[:,0]\n",
    "\n",
    "test_x = test.iloc[:,1:]\n",
    "test_y = test.iloc[:,0]"
   ]
  },
  {
   "cell_type": "code",
   "execution_count": 7,
   "metadata": {},
   "outputs": [
    {
     "name": "stdout",
     "output_type": "stream",
     "text": [
      "(112799, 784) (112799,) (18799, 784) (18799,)\n"
     ]
    }
   ],
   "source": [
    "print(train_x.shape,train_y.shape,test_x.shape,test_y.shape)"
   ]
  },
  {
   "cell_type": "code",
   "execution_count": 8,
   "metadata": {},
   "outputs": [
    {
     "name": "stdout",
     "output_type": "stream",
     "text": [
      "train_x: (112799, 784)\n",
      "test_x: (18799, 784)\n"
     ]
    }
   ],
   "source": [
    "train_x = np.asarray(train_x)\n",
    "print (\"train_x:\",train_x.shape)\n",
    "\n",
    "test_x = np.asarray(test_x)\n",
    "print (\"test_x:\",test_x.shape)"
   ]
  },
  {
   "cell_type": "code",
   "execution_count": 9,
   "metadata": {},
   "outputs": [],
   "source": [
    "# values currently range from 0-255 (representing colour) Change to float values ranging from 0-1 for more cleanliness\n",
    "train_x = train_x.astype('float32')\n",
    "train_x /= 255\n",
    "test_x = test_x.astype('float32')\n",
    "test_x /= 255"
   ]
  },
  {
   "cell_type": "code",
   "execution_count": 10,
   "metadata": {
    "scrolled": true
   },
   "outputs": [
    {
     "name": "stdout",
     "output_type": "stream",
     "text": [
      "[ 48  49  50  51  52  53  54  55  56  57  65  66  67  68  69  70  71  72\n",
      "  73  74  75  76  77  78  79  80  81  82  83  84  85  86  87  88  89  90\n",
      "  97  98 100 101 102 103 104 110 113 114 116]\n"
     ]
    }
   ],
   "source": [
    "#get mapping values | They are represented by ASCII values \n",
    "mapping = np.loadtxt('emnist-balanced-mapping.txt',dtype=int, usecols=(1), unpack=True)\n",
    "print(mapping)"
   ]
  },
  {
   "cell_type": "code",
   "execution_count": 11,
   "metadata": {},
   "outputs": [
    {
     "name": "stdout",
     "output_type": "stream",
     "text": [
      "{0: '0', 1: '1', 2: '2', 3: '3', 4: '4', 5: '5', 6: '6', 7: '7', 8: '8', 9: '9', 10: 'A', 11: 'B', 12: 'C', 13: 'D', 14: 'E', 15: 'F', 16: 'G', 17: 'H', 18: 'I', 19: 'J', 20: 'K', 21: 'L', 22: 'M', 23: 'N', 24: 'O', 25: 'P', 26: 'Q', 27: 'R', 28: 'S', 29: 'T', 30: 'U', 31: 'V', 32: 'W', 33: 'X', 34: 'Y', 35: 'Z', 36: 'a', 37: 'b', 38: 'd', 39: 'e', 40: 'f', 41: 'g', 42: 'h', 43: 'n', 44: 'q', 45: 'r', 46: 't'}\n"
     ]
    }
   ],
   "source": [
    "char_labels={}\n",
    "for i in range(train_y.min(),train_y.max()+1):\n",
    "    char_labels[i] = chr(mapping[i])\n",
    "print(char_labels)"
   ]
  },
  {
   "cell_type": "code",
   "execution_count": 12,
   "metadata": {},
   "outputs": [
    {
     "data": {
      "image/png": "[encoded data removed]",
      "text/plain": [
       "<Figure size 2016x2016 with 10 Axes>"
      ]
     },
     "metadata": {
      "needs_background": "light"
     },
     "output_type": "display_data"
    }
   ],
   "source": [
    "random_array = np.random.randint(train_x.shape[0], size=(2,10))\n",
    "plt.figure(figsize=[28,28])\n",
    "for i in range(10):\n",
    "    plt.subplot(2,10,i+1)\n",
    "    a = int(train_y[random_array[0,i]])\n",
    "    plt.title(char_labels[a])\n",
    "    plt.imshow(train_x[random_array[0,i]].reshape(28,28).squeeze().T, cmap='gray')\n",
    "    plt.axis('off')"
   ]
  },
  {
   "cell_type": "code",
   "execution_count": null,
   "metadata": {},
   "outputs": [],
   "source": []
  }
 ],
 "metadata": {
  "kernelspec": {
   "display_name": "gputensor 3.7",
   "language": "python",
   "name": "gputensor"
  },
  "language_info": {
   "codemirror_mode": {
    "name": "ipython",
    "version": 3
   },
   "file_extension": ".py",
   "mimetype": "text/x-python",
   "name": "python",
   "nbconvert_exporter": "python",
   "pygments_lexer": "ipython3",
   "version": "3.7.10"
  }
 },
 "nbformat": 4,
 "nbformat_minor": 4
}

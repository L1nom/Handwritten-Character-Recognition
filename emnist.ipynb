{
 "cells": [
  {
   "cell_type": "markdown",
   "metadata": {},
   "source": [
    "# Handwritten Character Recognition using EMNIST Dataset"
   ]
  },
  {
   "cell_type": "markdown",
   "metadata": {},
   "source": [
    "Import the main libraries needed for the project <br>\n",
    "emnist -- dataset <br>\n",
    "tensorflow -- libraries useful for machine learning <br>\n",
    "matplotlib -- data visualization <br>\n",
    "PIL -- image grabbing and manipulation <br>\n",
    "keras -- api for machine learning <br>"
   ]
  },
  {
   "cell_type": "code",
   "execution_count": 1,
   "metadata": {},
   "outputs": [],
   "source": [
    "from emnist import list_datasets\n",
    "import tensorflow as tf\n",
    "import numpy as np\n",
    "import matplotlib.pyplot as plt\n",
    "from PIL import ImageGrab, Image\n",
    "from tensorflow import keras"
   ]
  },
  {
   "cell_type": "markdown",
   "metadata": {},
   "source": [
    "<h1>List the datasets available for the EMNIST</h1><br>\n",
    "Balanced -- Alphanumeric database containing 814,255 units, 697,932 train, 116,323 test. 47 different classes to identify characters. Certain alphabets have been combined who have similar-looking UPPER and LOWER case image. Each class contains an equal amount of data to be used for training/testing<br>\n",
    "ByClass -- Alphanumeric database containing 814,255 units, 697,932 train, 116,323 test. 62 different classes to identify characters, 10 for digits, 26 for upper-case, 26 for lower-case. Certain classes have more units due to frequeuncy of usage in the english language<br>\n",
    "ByMerge -- Alphanumeric database containing 814,255 units, 697,932 train, 116,323 test. 47 different classes to identify characters. Certain alphabets have been combined who have similar-looking UPPER and LOWER case image. Certain classes have more units due to frequeunct of usage in the english language <br>\n",
    "Digits -- Larger database for digits. 280,000 units, 240,000 train, 40,000 test <br>\n",
    "Letters -- Database for only alphabetical characters. 103,600 units, 88,800 train, 14,800 test <br>\n",
    "MNIST -- Default Database for digits. 70,000 units, 60000 train, 10,000 test <br>"
   ]
  },
  {
   "cell_type": "code",
   "execution_count": 2,
   "metadata": {},
   "outputs": [
    {
     "data": {
      "text/plain": [
       "['balanced', 'byclass', 'bymerge', 'digits', 'letters', 'mnist']"
      ]
     },
     "execution_count": 2,
     "metadata": {},
     "output_type": "execute_result"
    }
   ],
   "source": [
    "list_datasets()"
   ]
  },
  {
   "cell_type": "code",
   "execution_count": 3,
   "metadata": {},
   "outputs": [],
   "source": [
    "from emnist import extract_training_samples\n",
    "from emnist import extract_test_samples"
   ]
  },
  {
   "cell_type": "code",
   "execution_count": 4,
   "metadata": {},
   "outputs": [],
   "source": [
    "x_train, y_train = extract_training_samples('balanced')  # split the train/test data x_train = model y_train = val\n",
    "x_test, y_test = extract_test_samples('balanced')"
   ]
  },
  {
   "cell_type": "code",
   "execution_count": 5,
   "metadata": {},
   "outputs": [
    {
     "name": "stdout",
     "output_type": "stream",
     "text": [
      "(112800, 28, 28) (112800,) (18800, 28, 28) (18800,)\n"
     ]
    }
   ],
   "source": [
    "print(x_train.shape, y_train.shape, x_test.shape, y_test.shape)"
   ]
  },
  {
   "cell_type": "code",
   "execution_count": 6,
   "metadata": {
    "scrolled": false
   },
   "outputs": [
    {
     "data": {
      "image/png": "[encoded data removed]",
      "text/plain": [
       "<Figure size 432x288 with 1 Axes>"
      ]
     },
     "metadata": {
      "needs_background": "light"
     },
     "output_type": "display_data"
    }
   ],
   "source": [
    "plt.imshow(x_train[0], cmap=plt.get_cmap('gray'))\n",
    "plt.title(y_train[0])\n",
    "plt.show()\n",
    "# index 0 of y_train represents the 45th value of the 47 classes, in this case lowercase r"
   ]
  },
  {
   "cell_type": "code",
   "execution_count": 7,
   "metadata": {},
   "outputs": [],
   "source": [
    "x_train = x_train.reshape(x_train.shape[0], 28, 28, 1)  # reshape data to 28x28 in 1 dimension\n",
    "x_test = x_test.reshape(x_test.shape[0], 28, 28, 1)\n",
    "x_train = x_train.astype('float32')  # make the data include float values, and constrain the values between0 to 1\n",
    "x_test = x_test.astype('float32')\n",
    "x_train /= 255\n",
    "x_test /= 255"
   ]
  },
  {
   "cell_type": "markdown",
   "metadata": {},
   "source": [
    "Complex model with several layers to filter and classiy the data"
   ]
  },
  {
   "cell_type": "code",
   "execution_count": 13,
   "metadata": {},
   "outputs": [
    {
     "name": "stdout",
     "output_type": "stream",
     "text": [
      "Epoch 1/10\n",
      "3525/3525 [==============================] - 13s 4ms/step - loss: 0.8059 - accuracy: 0.7481\n",
      "Epoch 2/10\n",
      "3525/3525 [==============================] - 13s 4ms/step - loss: 0.4682 - accuracy: 0.8380\n",
      "Epoch 3/10\n",
      "3525/3525 [==============================] - 13s 4ms/step - loss: 0.4022 - accuracy: 0.8566\n",
      "Epoch 4/10\n",
      "3525/3525 [==============================] - 13s 4ms/step - loss: 0.3622 - accuracy: 0.8690\n",
      "Epoch 5/10\n",
      "3525/3525 [==============================] - 13s 4ms/step - loss: 0.3354 - accuracy: 0.8764\n",
      "Epoch 6/10\n",
      "3525/3525 [==============================] - 13s 4ms/step - loss: 0.3131 - accuracy: 0.8838\n",
      "Epoch 7/10\n",
      "3525/3525 [==============================] - 13s 4ms/step - loss: 0.2976 - accuracy: 0.8871\n",
      "Epoch 8/10\n",
      "3525/3525 [==============================] - 13s 4ms/step - loss: 0.2790 - accuracy: 0.8929\n",
      "Epoch 9/10\n",
      "3525/3525 [==============================] - 13s 4ms/step - loss: 0.2655 - accuracy: 0.8967\n",
      "Epoch 10/10\n",
      "3525/3525 [==============================] - 13s 4ms/step - loss: 0.2549 - accuracy: 0.9003\n",
      "588/588 [==============================] - 1s 2ms/step - loss: 0.3977 - accuracy: 0.8695\n",
      "INFO:tensorflow:Assets written to: sample.model\\assets\n",
      "Model: \"sequential_1\"\n",
      "_________________________________________________________________\n",
      "Layer (type)                 Output Shape              Param #   \n",
      "=================================================================\n",
      "conv2d_2 (Conv2D)            (None, 26, 26, 6)         60        \n",
      "_________________________________________________________________\n",
      "average_pooling2d_2 (Average (None, 13, 13, 6)         0         \n",
      "_________________________________________________________________\n",
      "conv2d_3 (Conv2D)            (None, 11, 11, 16)        880       \n",
      "_________________________________________________________________\n",
      "average_pooling2d_3 (Average (None, 5, 5, 16)          0         \n",
      "_________________________________________________________________\n",
      "flatten_1 (Flatten)          (None, 400)               0         \n",
      "_________________________________________________________________\n",
      "dense_3 (Dense)              (None, 188)               75388     \n",
      "_________________________________________________________________\n",
      "dense_4 (Dense)              (None, 94)                17766     \n",
      "_________________________________________________________________\n",
      "dense_5 (Dense)              (None, 47)                4465      \n",
      "=================================================================\n",
      "Total params: 98,559\n",
      "Trainable params: 98,559\n",
      "Non-trainable params: 0\n",
      "_________________________________________________________________\n"
     ]
    }
   ],
   "source": [
    "model = tf.keras.models.Sequential([\n",
    "  tf.keras.layers.Conv2D(filters=6, kernel_size=(3, 3), activation='relu', input_shape=(28,28,1)),\n",
    "  tf.keras.layers.AveragePooling2D(),\n",
    "  tf.keras.layers.Conv2D(filters=16, kernel_size=(3, 3), activation='relu'),\n",
    "  tf.keras.layers.AveragePooling2D(),\n",
    "  tf.keras.layers.Flatten(),\n",
    "  tf.keras.layers.Dense(188, activation='relu'),\n",
    "  tf.keras.layers.Dense(94, activation='relu'),\n",
    "  tf.keras.layers.Dense(47, activation='softmax')\n",
    "])\n",
    "\n",
    "model.compile(optimizer='adam',\n",
    "              loss='sparse_categorical_crossentropy',\n",
    "              metrics=['accuracy'])\n",
    "\n",
    "model.fit(x_train, y_train, epochs=10)\n",
    "loss, accuracy = model.evaluate(x_test, y_test)\n",
    "model.save('sample.model')\n",
    "model.summary()"
   ]
  },
  {
   "cell_type": "markdown",
   "metadata": {},
   "source": [
    "Basic model using only dense layers to filter the data and classify the data. Each layer categorizes the data, aiming for more accuracy each time"
   ]
  },
  {
   "cell_type": "code",
   "execution_count": 9,
   "metadata": {},
   "outputs": [],
   "source": [
    "# model = tf.keras.models.Sequential([\n",
    "#   tf.keras.layers.Flatten(input_shape=(28, 28, 1)),\n",
    "#   tf.keras.layers.Dense(512, activation='relu'),\n",
    "#   tf.keras.layers.Dense(256, activation='relu'),\n",
    "#   tf.keras.layers.Dense(188, activation='relu'),   \n",
    "#   tf.keras.layers.Dense(94, activation='relu'),\n",
    "#   tf.keras.layers.Dense(47, activation='softmax')\n",
    "# ])\n",
    "\n",
    "# model.compile(optimizer='adam',\n",
    "#               loss='sparse_categorical_crossentropy',\n",
    "#               metrics=['accuracy'])\n",
    "\n",
    "# model.fit(x_train, y_train, epochs=10)\n",
    "# loss, accuracy = model.evaluate(x_test, y_test)\n",
    "# model.save('sample.model')"
   ]
  },
  {
   "cell_type": "markdown",
   "metadata": {},
   "source": [
    "Using the mapping text file given with the dataset to classify the images based on their index.<br> Each mapping index corresponds to an ASCII value (0-9, A-Z, a, b, d, e, f, g, h, n, q, r, t)"
   ]
  },
  {
   "cell_type": "code",
   "execution_count": 10,
   "metadata": {
    "scrolled": true
   },
   "outputs": [
    {
     "name": "stdout",
     "output_type": "stream",
     "text": [
      "[ 48  49  50  51  52  53  54  55  56  57  65  66  67  68  69  70  71  72\n",
      "  73  74  75  76  77  78  79  80  81  82  83  84  85  86  87  88  89  90\n",
      "  97  98 100 101 102 103 104 110 113 114 116]\n",
      "{0: '0', 1: '1', 2: '2', 3: '3', 4: '4', 5: '5', 6: '6', 7: '7', 8: '8', 9: '9', 10: 'A', 11: 'B', 12: 'C', 13: 'D', 14: 'E', 15: 'F', 16: 'G', 17: 'H', 18: 'I', 19: 'J', 20: 'K', 21: 'L', 22: 'M', 23: 'N', 24: 'O', 25: 'P', 26: 'Q', 27: 'R', 28: 'S', 29: 'T', 30: 'U', 31: 'V', 32: 'W', 33: 'X', 34: 'Y', 35: 'Z', 36: 'a', 37: 'b', 38: 'd', 39: 'e', 40: 'f', 41: 'g', 42: 'h', 43: 'n', 44: 'q', 45: 'r', 46: 't'}\n"
     ]
    }
   ],
   "source": [
    "mapping = np.loadtxt('emnist-balanced-mapping.txt',dtype=int, usecols=(1), unpack=True)\n",
    "print(mapping)\n",
    "char_labels={}\n",
    "for i in range(47):\n",
    "    char_labels[i] = chr(mapping[i])\n",
    "print(char_labels)"
   ]
  },
  {
   "cell_type": "markdown",
   "metadata": {},
   "source": [
    "Only need to run bottom line inorder to load the model. Do not need to train the model each time"
   ]
  },
  {
   "cell_type": "code",
   "execution_count": 11,
   "metadata": {
    "scrolled": false
   },
   "outputs": [],
   "source": [
    "from tensorflow import keras\n",
    "from PIL import ImageGrab, Image\n",
    "import numpy as np\n",
    "model = keras.models.load_model('emnist.model')"
   ]
  },
  {
   "cell_type": "markdown",
   "metadata": {},
   "source": [
    "Image testing with drawn images from tkinter gui. Each image is unique, 0-9, A-Z, then lower case letters"
   ]
  },
  {
   "cell_type": "code",
   "execution_count": 12,
   "metadata": {},
   "outputs": [
    {
     "name": "stdout",
     "output_type": "stream",
     "text": [
      "0\n",
      "L\n",
      "2\n",
      "3\n",
      "4\n",
      "5\n",
      "G\n",
      "7\n",
      "8\n",
      "9\n",
      "A\n",
      "8\n",
      "C\n",
      "D\n",
      "E\n",
      "F\n",
      "G\n",
      "H\n",
      "I\n",
      "J\n",
      "K\n",
      "L\n",
      "M\n",
      "N\n",
      "0\n",
      "P\n",
      "Q\n",
      "R\n",
      "S\n",
      "T\n",
      "U\n",
      "V\n",
      "W\n",
      "X\n",
      "Y\n",
      "Z\n",
      "a\n",
      "b\n",
      "d\n",
      "E\n",
      "F\n",
      "g\n",
      "h\n",
      "M\n",
      "q\n",
      "t\n",
      "T\n"
     ]
    }
   ],
   "source": [
    "for x in range(0,47):\n",
    "    img = Image.open(f'images/{x}.png')\n",
    "    img = np.array(img)\n",
    "    img = np.invert(np.array([img]))\n",
    "    img = img.reshape(1,28,28,1)\n",
    "    img = img/255\n",
    "    predict = model.predict(img)  # identify the class which resonates highest with the image\n",
    "    print(char_labels[np.argmax(predict)])\n",
    "#     Testing with 10 pixel lines"
   ]
  }
 ],
 "metadata": {
  "kernelspec": {
   "display_name": "gputensor 3.7",
   "language": "python",
   "name": "gputensor"
  },
  "language_info": {
   "codemirror_mode": {
    "name": "ipython",
    "version": 3
   },
   "file_extension": ".py",
   "mimetype": "text/x-python",
   "name": "python",
   "nbconvert_exporter": "python",
   "pygments_lexer": "ipython3",
   "version": "3.7.10"
  }
 },
 "nbformat": 4,
 "nbformat_minor": 4
}
